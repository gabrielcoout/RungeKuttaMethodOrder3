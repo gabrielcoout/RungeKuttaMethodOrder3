{
 "cells": [
  {
   "cell_type": "code",
   "execution_count": 1,
   "id": "2f8c2ff4-3aa7-4668-a4ab-e46dcde13e1c",
   "metadata": {},
   "outputs": [],
   "source": [
    "import numpy as np\n",
    "import sympy as smp\n",
    "import matplotlib.pyplot as plt"
   ]
  },
  {
   "cell_type": "markdown",
   "id": "9ae49878-daa8-40ee-b996-7c805ddaff77",
   "metadata": {},
   "source": [
    "### Objetivo: \n",
    "Obter método de Runge-Kutta de ordem 3 e aplicar em problema (abaixo), comparando\r\n",
    "resultado com solução exata.\r"
   ]
  },
  {
   "cell_type": "code",
   "execution_count": 181,
   "id": "870e0c6d-9f53-4e7c-a060-92bc214b02a0",
   "metadata": {
    "scrolled": true
   },
   "outputs": [],
   "source": [
    "class RungeKutta3Method:\n",
    "    def __init__(self, a2, a3, c3=None):\n",
    "        self.a2 = a2\n",
    "        self.a3 = a3\n",
    "        self.c3 = c3\n",
    "        \n",
    "        # Initialize coefficients as None\n",
    "        self.c1 = None\n",
    "        self.c2 = None\n",
    "        self.b31 = None\n",
    "        self.b32 = None\n",
    "        self.b21 = a2  # Always equal to a2 initially\n",
    "        \n",
    "        # Compute coefficients\n",
    "        self._compute_coefficients()\n",
    "\n",
    "    def __repr__(self):\n",
    "        \"\"\"\n",
    "        Return a detailed representation of the instance for debugging.\n",
    "        \"\"\"\n",
    "        return (\n",
    "            f\"RungeKutta3Method(a2={self.a2}, a3={self.a3}, b21={self.b21}, \"\n",
    "            f\"c1={self.c1}, c2={self.c2}, c3={self.c3}, b31={self.b31}, b32={self.b32})\"\n",
    "        )\n",
    "\n",
    "    def __str__(self):\n",
    "        \"\"\"\n",
    "        Return a user-readable representation of the instance,\n",
    "        including the formatted expression for phi.\n",
    "        \"\"\"\n",
    "        smp.pprint(self.get_phi_expr(), use_unicode=True)\n",
    "        return \"\"\n",
    "\n",
    "    def _compute_coefficients(self):\n",
    "        \"\"\"\n",
    "        Solve the coefficients and store them as class attributes.\n",
    "        \"\"\"\n",
    "        c1, c2, b31, b32 = smp.symbols('c1 c2 b31 b32')\n",
    "        a2, a3 = self.a2, self.a3\n",
    "\n",
    "        if a2 != a3 and a2 != smp.Rational(2, 3) and a2 != 0 and a3 != 0:\n",
    "            # Compute coefficients directly\n",
    "            self.c1 = (2 - 3 * (a2 + a3 - 2 * a2 * a3)) / (6 * a2 * a3)\n",
    "            self.c2 = (2 - 3 * a3) / (6 * a2 * (a2 - a3))\n",
    "            self.c3 = (3 * a2 - 2) / (6 * a3 * (a2 - a3))\n",
    "            self.b31 = a3 * (a3 + 3 * a2**2 - 3 * a2) / (a2 * (3 * a2 - 2))\n",
    "            self.b32 = a3 * (a2 - a3) / (a2 * (3 * a2 - 2))\n",
    "        else:\n",
    "            # Handle the case where c3 is needed but not provided\n",
    "            if self.c3 is None:\n",
    "                raise ValueError(\"c3 must be provided if a2 and a3 do not satisfy the conditions.\")\n",
    "            c3 = self.c3\n",
    "\n",
    "            # Define the system of equations\n",
    "            eq1 = smp.Eq(c1 + c2 + c3, 1)\n",
    "            eq2 = smp.Eq(c2 * a2 + c3 * a3, smp.Rational(1, 2))\n",
    "            eq3 = smp.Eq(c3 * b32 * a2, smp.Rational(1, 6))\n",
    "            eq4 = smp.Eq(c2 * a2**2 + c3 * a3**2, smp.Rational(1, 3))\n",
    "            eq5 = smp.Eq(a3, b31 + b32)\n",
    "\n",
    "            # Solve the system\n",
    "            sol = smp.solve([eq1, eq2, eq3, eq4, eq5], (c1, c2, b31, b32))\n",
    "            if sol:\n",
    "                self.c1 = sol[c1]\n",
    "                self.c2 = sol[c2]\n",
    "                self.b31 = sol[b31]\n",
    "                self.b32 = sol[b32]\n",
    "            else:\n",
    "                raise ValueError(\"The provided a2 and a3 values do not satisfy the system.\")\n",
    "\n",
    "        # Update a2 and a3 based on b21, b31, and b32\n",
    "        self.a2 = self.b21\n",
    "        self.a3 = self.b31 + self.b32\n",
    "\n",
    "    def get_phi_expr(self):\n",
    "        \"\"\"\n",
    "        Return the expression for phi(x, y, h).\n",
    "        \"\"\"\n",
    "        k1, k2, k3 = smp.symbols('k1 k2 k3')\n",
    "\n",
    "        phi_expr = (\n",
    "            self.c1 * k1 +\n",
    "            self.c2 * k2 +\n",
    "            self.c3 * k3\n",
    "        )\n",
    "        return phi_expr\n",
    "\n",
    "    def get_coefficients(self):\n",
    "        \"\"\"\n",
    "        Return the coefficients as a dictionary.\n",
    "        \"\"\"\n",
    "        return {\n",
    "            'a2': self.a2,\n",
    "            'a3': self.a3,\n",
    "            'b21': self.b21,\n",
    "            'c1': self.c1,\n",
    "            'c2': self.c2,\n",
    "            'c3': self.c3,\n",
    "            'b31': self.b31,\n",
    "            'b32': self.b32,\n",
    "        }\n",
    "\n",
    "    def substitute_k_values(self, **kwargs):\n",
    "        \n",
    "        k1, k2, k3 = smp.symbols('k1 k2 k3')\n",
    "        \n",
    "        substitutions = {k1: kwargs.get('k1', k1), k2: kwargs.get('k2', k2), k3: kwargs.get('k3', k3)}\n",
    "        \n",
    "        return self.get_phi_expr().subs(substitutions)\n",
    "        \n",
    "    def solve(self, x, h, N, f):\n",
    "        \n",
    "        y = np.ones(N)\n",
    "        for n in range(0, N - 1):\n",
    "            k1 = f(x[n], y[n])\n",
    "            k2 = f(x[n] + method1.a2 * h, y[n] + h * method1.b21 * k1)\n",
    "            k3 = f(x[n] + method1.a3 * h, y[n] + h * (method1.b31 * k1 + method1.b32 * k2))\n",
    "        \n",
    "            # Substitute k values into the phi expression and evaluate\n",
    "            phi_value = self.substitute_k_values(k1=k1, k2=k2, k3=k3)\n",
    "        \n",
    "            # Update y[n+1]\n",
    "            y[n + 1] = y[n] + h * float(phi_value)  # Ensure phi_value is numeric\n",
    "        return y\n"
   ]
  },
  {
   "cell_type": "code",
   "execution_count": 183,
   "id": "95d01a5c-9e2c-47ff-ad53-421093e37324",
   "metadata": {},
   "outputs": [
    {
     "data": {
      "text/plain": [
       "array([1.        , 0.90516667, 0.8237304 , 0.75710012, 0.70683293,\n",
       "       0.67464967, 0.66245218, 0.67234229, 0.70664288, 0.76792112])"
      ]
     },
     "execution_count": 183,
     "metadata": {},
     "output_type": "execute_result"
    }
   ],
   "source": [
    "# Define the Runge-Kutta method instance\n",
    "method1 = RungeKutta3Method(a2=smp.Rational(2, 3), \n",
    "                            a3=smp.Rational(2, 3),\n",
    "                            c3=smp.Rational(3, 8))\n",
    "\n",
    "# Numerical setup\n",
    "N = 10\n",
    "x = np.linspace(0, 1, N)\n",
    "h = 0.1\n",
    "sol_exata = np.exp(x) - 2 * x\n",
    "f = lambda x, y: y + 2 * x - 2\n",
    "\n",
    "def solve(x,h,N):\n",
    "        \n",
    "        y = np.ones(N)\n",
    "        for n in range(0, N - 1):\n",
    "            k1 = f(x[n], y[n])\n",
    "            k2 = f(x[n] + method1.a2 * h, y[n] + h * method1.b21 * k1)\n",
    "            k3 = f(x[n] + method1.a3 * h, y[n] + h * (method1.b31 * k1 + method1.b32 * k2))\n",
    "        \n",
    "            # Substitute k values into the phi expression and evaluate\n",
    "            phi_value = method1.substitute_k_values(k1=k1, k2=k2, k3=k3)\n",
    "        \n",
    "            # Update y[n+1]\n",
    "            y[n + 1] = y[n] + h * float(phi_value)  # Ensure phi_value is numeric\n",
    "        return y\n",
    "\n",
    "method1.solve(x,h,N)"
   ]
  },
  {
   "cell_type": "code",
   "execution_count": 184,
   "id": "c6633a39-d6a5-42a6-b558-375618bbf0c0",
   "metadata": {},
   "outputs": [
    {
     "data": {
      "text/plain": [
       "[<matplotlib.lines.Line2D at 0x23b235635d0>]"
      ]
     },
     "execution_count": 184,
     "metadata": {},
     "output_type": "execute_result"
    },
    {
     "data": {
      "image/png": "[encoded data removed]",
      "text/plain": [
       "<Figure size 640x480 with 1 Axes>"
      ]
     },
     "metadata": {},
     "output_type": "display_data"
    }
   ],
   "source": [
    "plt.plot(x,sol_exata)\n",
    "plt.plot(x,method1.solve(x,h,N))"
   ]
  }
 ],
 "metadata": {
  "kernelspec": {
   "display_name": "Python 3 (ipykernel)",
   "language": "python",
   "name": "python3"
  },
  "language_info": {
   "codemirror_mode": {
    "name": "ipython",
    "version": 3
   },
   "file_extension": ".py",
   "mimetype": "text/x-python",
   "name": "python",
   "nbconvert_exporter": "python",
   "pygments_lexer": "ipython3",
   "version": "3.11.9"
  }
 },
 "nbformat": 4,
 "nbformat_minor": 5
}
